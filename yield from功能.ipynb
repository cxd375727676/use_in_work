{
 "cells": [
  {
   "cell_type": "markdown",
   "metadata": {},
   "source": [
    "# yield from 的基本作用"
   ]
  },
  {
   "cell_type": "markdown",
   "metadata": {},
   "source": [
    "## 一、yield from 会预激生成器"
   ]
  },
  {
   "cell_type": "code",
   "execution_count": 58,
   "metadata": {},
   "outputs": [],
   "source": [
    "def gen_1():    # send什么就产生什么（3次）\n",
    "    x = None\n",
    "    for i in range(3):\n",
    "        x = yield x\n",
    "    yield x\n",
    "\n",
    "g = gen_1()\n",
    "next(g)     # 预激"
   ]
  },
  {
   "cell_type": "code",
   "execution_count": 59,
   "metadata": {},
   "outputs": [
    {
     "data": {
      "text/plain": [
       "3"
      ]
     },
     "execution_count": 59,
     "metadata": {},
     "output_type": "execute_result"
    }
   ],
   "source": [
    "g.send(3)"
   ]
  },
  {
   "cell_type": "code",
   "execution_count": 60,
   "metadata": {},
   "outputs": [
    {
     "data": {
      "text/plain": [
       "5"
      ]
     },
     "execution_count": 60,
     "metadata": {},
     "output_type": "execute_result"
    }
   ],
   "source": [
    "g.send(5)"
   ]
  },
  {
   "cell_type": "code",
   "execution_count": 61,
   "metadata": {},
   "outputs": [
    {
     "data": {
      "text/plain": [
       "7"
      ]
     },
     "execution_count": 61,
     "metadata": {},
     "output_type": "execute_result"
    }
   ],
   "source": [
    "g.send(7)"
   ]
  },
  {
   "cell_type": "code",
   "execution_count": 63,
   "metadata": {},
   "outputs": [],
   "source": [
    "def ym_1():\n",
    "    yield from gen_1()\n",
    "\n",
    "g = ym_1()\n",
    "next(g)   # 这一步是激活ym_1本身，而对gen_1无需激活"
   ]
  },
  {
   "cell_type": "code",
   "execution_count": 64,
   "metadata": {},
   "outputs": [
    {
     "data": {
      "text/plain": [
       "3"
      ]
     },
     "execution_count": 64,
     "metadata": {},
     "output_type": "execute_result"
    }
   ],
   "source": [
    "g.send(3)"
   ]
  },
  {
   "cell_type": "code",
   "execution_count": 65,
   "metadata": {},
   "outputs": [
    {
     "data": {
      "text/plain": [
       "5"
      ]
     },
     "execution_count": 65,
     "metadata": {},
     "output_type": "execute_result"
    }
   ],
   "source": [
    "g.send(5)"
   ]
  },
  {
   "cell_type": "code",
   "execution_count": 66,
   "metadata": {},
   "outputs": [
    {
     "data": {
      "text/plain": [
       "7"
      ]
     },
     "execution_count": 66,
     "metadata": {},
     "output_type": "execute_result"
    }
   ],
   "source": [
    "g.send(7)"
   ]
  },
  {
   "cell_type": "markdown",
   "metadata": {},
   "source": [
    "## 二、yield from 捕获子生成器StopIteration时的return值"
   ]
  },
  {
   "cell_type": "markdown",
   "metadata": {},
   "source": [
    "* for循环 不会显式的发出StopIteration异常，而是自动捕获StopIteration异常，从而无法捕获生成器的return值"
   ]
  },
  {
   "cell_type": "code",
   "execution_count": 67,
   "metadata": {},
   "outputs": [
    {
     "name": "stdout",
     "output_type": "stream",
     "text": [
      "0\n",
      "1\n",
      "2\n"
     ]
    }
   ],
   "source": [
    "def gen_2():\n",
    "    for i in range(5):\n",
    "        if i == 3:\n",
    "            return 'exit'\n",
    "        else:\n",
    "            yield i\n",
    "\n",
    "for i in gen_2():\n",
    "    print(i)   "
   ]
  },
  {
   "cell_type": "markdown",
   "metadata": {},
   "source": [
    "* 利用next产生的StopIteration捕获return值"
   ]
  },
  {
   "cell_type": "code",
   "execution_count": 70,
   "metadata": {},
   "outputs": [
    {
     "name": "stdout",
     "output_type": "stream",
     "text": [
      "0\n",
      "1\n",
      "2\n",
      "exit\n"
     ]
    }
   ],
   "source": [
    "g = gen_2()\n",
    "try:\n",
    "    while True:\n",
    "        print(next(g))\n",
    "except StopIteration as si:    # return的值会在StopIteration的value属性记录，利用next以及try-except捕获StopIteration从而获得return值\n",
    "    print(si.value)"
   ]
  },
  {
   "cell_type": "markdown",
   "metadata": {},
   "source": [
    "* 利用 yield from捕获return值"
   ]
  },
  {
   "cell_type": "code",
   "execution_count": 73,
   "metadata": {},
   "outputs": [
    {
     "name": "stdout",
     "output_type": "stream",
     "text": [
      "打印数据 0\n",
      "打印数据 1\n",
      "打印数据 2\n",
      "副作用,捕获子生成器的return结果： exit\n"
     ]
    }
   ],
   "source": [
    "def ym_2():\n",
    "    catch = yield from gen_2()     # “继承”原始生成器的数据生成方式，同时在发生StopIteration时将原return的值传给catch\n",
    "    print(\"副作用,捕获子生成器的return结果：\", catch)                   # 打印捕获的return\n",
    "\n",
    "for i in ym_2():\n",
    "    print(\"打印数据\", i)       # 打印ym_2()生成的每个数据"
   ]
  },
  {
   "cell_type": "markdown",
   "metadata": {},
   "source": [
    "# 一个例子"
   ]
  },
  {
   "cell_type": "code",
   "execution_count": 43,
   "metadata": {},
   "outputs": [],
   "source": [
    "data = {\n",
    "'girls;kg':\n",
    "[40.9, 38.5, 44.3, 42.2, 45.2, 41.7, 44.5, 38.0, 40.6, 44.5],\n",
    "'girls;m':\n",
    "[1.6, 1.51, 1.4, 1.3, 1.41, 1.39, 1.33, 1.46, 1.45, 1.43],\n",
    "'boys;kg':\n",
    "[39.0, 40.8, 43.2, 40.8, 43.1, 38.6, 41.4, 40.6, 36.3],\n",
    "'boys;m':\n",
    "[1.38, 1.5, 1.32, 1.25, 1.37, 1.48, 1.25, 1.49, 1.46],\n",
    "}"
   ]
  },
  {
   "cell_type": "markdown",
   "metadata": {},
   "source": [
    "* ### 基于循环"
   ]
  },
  {
   "cell_type": "code",
   "execution_count": 44,
   "metadata": {},
   "outputs": [
    {
     "name": "stdout",
     "output_type": "stream",
     "text": [
      "10 girls averaging 42.04kg\n",
      "10 girls averaging 1.43m\n",
      " 9 boys  averaging 40.42kg\n",
      " 9 boys  averaging 1.39m\n"
     ]
    }
   ],
   "source": [
    "for k, v in data.items():\n",
    "    sex, unit = k.split(';')\n",
    "    cnt = len(v)\n",
    "    avg = sum(v) / cnt\n",
    "    print('{:2} {:5} averaging {:.2f}{}'.format(cnt, sex, avg, unit))"
   ]
  },
  {
   "cell_type": "markdown",
   "metadata": {},
   "source": [
    "* ### 基于 yield from,调用方——委派生成器——子生成器模式"
   ]
  },
  {
   "cell_type": "markdown",
   "metadata": {},
   "source": [
    "1.最初想法（需要处理异常）"
   ]
  },
  {
   "cell_type": "code",
   "execution_count": 52,
   "metadata": {},
   "outputs": [
    {
     "name": "stdout",
     "output_type": "stream",
     "text": [
      "10 girls averaging 42.04kg\n",
      "10 girls averaging 1.43m\n",
      " 9 boys  averaging 40.42kg\n",
      " 9 boys  averaging 1.39m\n"
     ]
    }
   ],
   "source": [
    "from collections import namedtuple\n",
    "\n",
    "line_res = namedtuple('Line', 'cnt avg')  \n",
    "\n",
    "# 假想一个“流输入”，内部计数器与累加器不断计算，直至接受到None，则停止计算，返回计数及均值(子生成器)\n",
    "def calc():\n",
    "    sum_ = 0\n",
    "    cnt = 0\n",
    "    while True:\n",
    "        value = yield \n",
    "        if value is None:\n",
    "            avg = sum_ / cnt if cnt != 0 else None\n",
    "            return line_res(cnt, avg)\n",
    "        else:\n",
    "            sum_ += value\n",
    "            cnt += 1\n",
    "\n",
    "            \n",
    "# 将每一次结果存入res_dict(委派生成器)\n",
    "def designate(res_list):\n",
    "    line_res = yield from calc()     # line_res 捕获运算结果\n",
    "    res_list.append(line_res)\n",
    "\n",
    "    \n",
    "def execute(data):\n",
    "    res_list = []\n",
    "    for k, v in data.items():\n",
    "        sex, unit = k.split(';')\n",
    "        des = designate(res_list)\n",
    "        next(des)  # 启动委派生成器\n",
    "        for value in v:\n",
    "            # 不用预激子生成器了\n",
    "            des.send(value)\n",
    "        try:\n",
    "            des.send(None)\n",
    "        except StopIteration:    # 由于发送None导致委派生成器本身也终止，捕获该异常,使程序不会中断\n",
    "            pass\n",
    "        finally:    \n",
    "            line_res = res_list[-1]\n",
    "            print('{:2} {:5} averaging {:.2f}{}'.format(line_res.cnt, sex, line_res.avg, unit))\n",
    "\n",
    "            \n",
    "execute(data)   "
   ]
  },
  {
   "cell_type": "markdown",
   "metadata": {},
   "source": [
    "2.改进（不用处理异常，实时打印）"
   ]
  },
  {
   "cell_type": "code",
   "execution_count": 54,
   "metadata": {},
   "outputs": [
    {
     "name": "stdout",
     "output_type": "stream",
     "text": [
      "10 girls averaging 42.04kg\n",
      "10 girls averaging 1.43m\n",
      " 9 boys  averaging 40.42kg\n",
      " 9 boys  averaging 1.39m\n"
     ]
    }
   ],
   "source": [
    "import queue\n",
    "\n",
    "\n",
    "def calc():\n",
    "    sum_ = 0\n",
    "    cnt = 0\n",
    "    while True:\n",
    "        value = yield \n",
    "        if value is None:\n",
    "            avg = sum_ / cnt if cnt != 0 else None\n",
    "            return cnt, avg\n",
    "        else:\n",
    "            sum_ += value\n",
    "            cnt += 1\n",
    "\n",
    "def designate(res_id, q):\n",
    "    cnt, avg = yield from calc()\n",
    "    sex, unit = res_id.split(';')\n",
    "    resline = (cnt, sex, avg, unit)\n",
    "    q.put(resline)\n",
    "    yield           # 避免出现StopIteration\n",
    "\n",
    "    \n",
    "def execute(data):\n",
    "    q = queue.Queue(maxsize=1)      # 队列中每次最多一个结果\n",
    "    for k, v in data.items():\n",
    "        des = designate(k, q)\n",
    "        next(des) \n",
    "        for value in v:\n",
    "            des.send(value)\n",
    "        des.send(None)\n",
    "        resline = q.get()\n",
    "        print('{:2} {:5} averaging {:.2f}{}'.format(*resline))\n",
    "\n",
    "        \n",
    "execute(data)"
   ]
  },
  {
   "cell_type": "markdown",
   "metadata": {},
   "source": [
    "## 三、离散仿真例子（出租车）"
   ]
  },
  {
   "cell_type": "code",
   "execution_count": 190,
   "metadata": {},
   "outputs": [],
   "source": [
    "import random\n",
    "\n",
    "class Event(namedtuple('RawEvent', 'time proc action')):\n",
    "    \"\"\" 作为有序队列的基本单元使用 \"\"\"\n",
    "    def __lt__(self,other): \n",
    "        return self.time < other.time\n",
    "\n",
    "\n",
    "def trip():\n",
    "    proc, time = yield           # 接收车辆 及 开始时间\n",
    "    yield Event(time, proc, 'leave garge')\n",
    "    cnt = random.randint(1,5)    # 随机载1-5趟乘客\n",
    "    for i in range(cnt):\n",
    "        for evt in ['pick up passenger', 'drop off passenger']:\n",
    "            time += random.randint(1,10)\n",
    "            yield Event(time, proc, evt)\n",
    "    time += random.randint(1,10)  \n",
    "    yield Event(time, proc, 'going home')\n",
    "       \n",
    "        \n",
    "def depart(n_cars, interval_time, threshold):\n",
    "    \"\"\" 发车数量， 发车间隔时间， 最大时间\"\"\"\n",
    "    q = queue.PriorityQueue()   # 事件记录\n",
    "    time = 0\n",
    "    cnt = 0    # 还未回家的车\n",
    "    for i in range(n_cars):\n",
    "        t = trip()\n",
    "        next(t)\n",
    "        start = t.send((i, time))\n",
    "        q.put(start)\n",
    "        for evt in t:\n",
    "            if evt.time > threshold:\n",
    "                cnt += 1\n",
    "                break\n",
    "            else:\n",
    "                q.put(evt)\n",
    "        time += interval_time\n",
    "    \n",
    "    while not q.empty():\n",
    "        evt = q.get()\n",
    "        taxi_id = evt.proc\n",
    "        print('taxi: {} {}{}'.format(taxi_id, ' '*(3*taxi_id), evt))\n",
    "    if cnt == 0:\n",
    "        print(\"end of events\")\n",
    "    else:\n",
    "        print(\"end of simulation time: %d cars still go on\" % cnt)"
   ]
  },
  {
   "cell_type": "code",
   "execution_count": 191,
   "metadata": {},
   "outputs": [
    {
     "name": "stdout",
     "output_type": "stream",
     "text": [
      "taxi: 0 Event(time=0, proc=0, action='leave garge')\n",
      "taxi: 1    Event(time=5, proc=1, action='leave garge')\n",
      "taxi: 0 Event(time=6, proc=0, action='pick up passenger')\n",
      "taxi: 0 Event(time=7, proc=0, action='drop off passenger')\n",
      "taxi: 2       Event(time=10, proc=2, action='leave garge')\n",
      "taxi: 1    Event(time=15, proc=1, action='pick up passenger')\n",
      "taxi: 0 Event(time=15, proc=0, action='going home')\n",
      "taxi: 2       Event(time=19, proc=2, action='pick up passenger')\n",
      "taxi: 2       Event(time=21, proc=2, action='drop off passenger')\n",
      "taxi: 1    Event(time=23, proc=1, action='drop off passenger')\n",
      "taxi: 2       Event(time=30, proc=2, action='pick up passenger')\n",
      "taxi: 1    Event(time=32, proc=1, action='pick up passenger')\n",
      "taxi: 2       Event(time=34, proc=2, action='drop off passenger')\n",
      "taxi: 1    Event(time=37, proc=1, action='drop off passenger')\n",
      "taxi: 2       Event(time=37, proc=2, action='pick up passenger')\n",
      "taxi: 1    Event(time=42, proc=1, action='going home')\n",
      "taxi: 2       Event(time=46, proc=2, action='drop off passenger')\n",
      "taxi: 2       Event(time=52, proc=2, action='pick up passenger')\n",
      "taxi: 2       Event(time=54, proc=2, action='drop off passenger')\n",
      "taxi: 2       Event(time=60, proc=2, action='pick up passenger')\n",
      "taxi: 2       Event(time=62, proc=2, action='drop off passenger')\n",
      "taxi: 2       Event(time=69, proc=2, action='going home')\n",
      "end of events\n"
     ]
    }
   ],
   "source": [
    "depart(3,5,100)"
   ]
  },
  {
   "cell_type": "code",
   "execution_count": 192,
   "metadata": {},
   "outputs": [
    {
     "name": "stdout",
     "output_type": "stream",
     "text": [
      "taxi: 0 Event(time=0, proc=0, action='leave garge')\n",
      "taxi: 0 Event(time=3, proc=0, action='pick up passenger')\n",
      "taxi: 1    Event(time=5, proc=1, action='leave garge')\n",
      "taxi: 0 Event(time=10, proc=0, action='drop off passenger')\n",
      "taxi: 2       Event(time=10, proc=2, action='leave garge')\n",
      "taxi: 2       Event(time=11, proc=2, action='pick up passenger')\n",
      "taxi: 2       Event(time=12, proc=2, action='drop off passenger')\n",
      "taxi: 1    Event(time=15, proc=1, action='pick up passenger')\n",
      "taxi: 1    Event(time=16, proc=1, action='drop off passenger')\n",
      "taxi: 2       Event(time=17, proc=2, action='pick up passenger')\n",
      "taxi: 0 Event(time=18, proc=0, action='pick up passenger')\n",
      "taxi: 0 Event(time=20, proc=0, action='drop off passenger')\n",
      "taxi: 1    Event(time=20, proc=1, action='pick up passenger')\n",
      "taxi: 2       Event(time=25, proc=2, action='drop off passenger')\n",
      "taxi: 1    Event(time=25, proc=1, action='drop off passenger')\n",
      "taxi: 1    Event(time=26, proc=1, action='pick up passenger')\n",
      "taxi: 0 Event(time=27, proc=0, action='pick up passenger')\n",
      "taxi: 2       Event(time=28, proc=2, action='pick up passenger')\n",
      "end of simulation time: 3 cars still go on\n"
     ]
    }
   ],
   "source": [
    "depart(3,5,30)"
   ]
  }
 ],
 "metadata": {
  "kernelspec": {
   "display_name": "Python 3",
   "language": "python",
   "name": "python3"
  },
  "language_info": {
   "codemirror_mode": {
    "name": "ipython",
    "version": 3
   },
   "file_extension": ".py",
   "mimetype": "text/x-python",
   "name": "python",
   "nbconvert_exporter": "python",
   "pygments_lexer": "ipython3",
   "version": "3.6.2"
  }
 },
 "nbformat": 4,
 "nbformat_minor": 2
}
